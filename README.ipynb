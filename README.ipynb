{
 "cells": [
  {
   "cell_type": "code",
   "execution_count": 1,
   "metadata": {
    "collapsed": true
   },
   "outputs": [],
   "source": [
    "!pip install CFGraph --upgrade  -q"
   ]
  },
  {
   "cell_type": "code",
   "execution_count": 2,
   "metadata": {},
   "outputs": [],
   "source": [
    "from rdflib import URIRef, Graph\n",
    "from CFGraph import CFGraph\n",
    "from pprint import pprint\n",
    "ppl = lambda o: pprint(list(o), width=160)\n",
    "pps = lambda o: pprint(set(o), width=160)\n",
    "\n",
    "s1 = URIRef(\"http://example.org/s1\")\n",
    "s2 = URIRef(\"http://example.org/s2\")\n",
    "s3 = URIRef(\"http://example.org/s3\")\n",
    "s4 = URIRef(\"http://example.org/s4\")\n",
    "\n",
    "p = URIRef(\"http://a.example/p1\")\n",
    "o = URIRef(\"http://example.org/o1\")\n"
   ]
  },
  {
   "cell_type": "markdown",
   "metadata": {},
   "source": [
    "**Our graph has for subjects:**\n",
    "\n",
    "* `<\"http://example.org/s1\">`: an RDF collection with 8 elements - seven literals with \"b\" appearing twice and a URI.\n",
    "* `<\"http://example.org/s2\">`: an RDF list with 7 elements -- six literals (\"b\" is a duplicate) and a URI.  This list is unordered\n",
    "* `<\"http://example.org/s3\">`: an empty RDF collection.  This returns `rdf:nil` as a normal graph and an empty list in CGGraph\n",
    "* `<\"http://example.org/s4\">`: an RDF collection with a single URI element"
   ]
  },
  {
   "cell_type": "code",
   "execution_count": 3,
   "metadata": {},
   "outputs": [
    {
     "name": "stdout",
     "output_type": "stream",
     "text": [
      "\n<http://example.org/s1> <http://a.example/p1> (\"a\" \"b\" \"c\" \"d\" \"e\" <http://example.org/o1> \"b\").\n<http://example.org/s2> <http://a.example/p1> \"a\", \"b\", \"c\", \"d\", \"e\", <http://example.org/o1>, \"b\".\n<http://example.org/s3> <http://a.example/p1> ().\n<http://example.org/s4> <http://a.example/p1> (<http://example.org/o1>).\n\n"
     ]
    }
   ],
   "source": [
    "rdf = f\"\"\"\n",
    "<{s1}> <{p}> (\"a\" \"b\" \"c\" \"d\" \"e\" <{o}> \"b\").\n",
    "<{s2}> <{p}> \"a\", \"b\", \"c\", \"d\", \"e\", <{o}>, \"b\".\n",
    "<{s3}> <{p}> ().\n",
    "<{s4}> <{p}> (<{o}>).\n",
    "\"\"\"\n",
    "\n",
    "print(rdf)"
   ]
  },
  {
   "cell_type": "code",
   "execution_count": 4,
   "metadata": {},
   "outputs": [],
   "source": [
    "# Load a Collection Flattening Graph\n",
    "cg = CFGraph()\n",
    "_ = cg.parse(data=rdf, format=\"turtle\")\n",
    "\n",
    "# Load a \"vanilla\" RDF graph for comparison\n",
    "g = Graph()\n",
    "_ = g.parse(data=rdf, format=\"turtle\")"
   ]
  },
  {
   "cell_type": "markdown",
   "metadata": {},
   "source": [
    "**The CGGraph returns all of the elements in the collection for the first predicate as a list.**\n"
   ]
  },
  {
   "cell_type": "code",
   "execution_count": 5,
   "metadata": {},
   "outputs": [
    {
     "name": "stdout",
     "output_type": "stream",
     "text": [
      "[(rdflib.term.URIRef('http://example.org/s1'), rdflib.term.URIRef('http://a.example/p1'), rdflib.term.Literal('a')),\n (rdflib.term.URIRef('http://example.org/s1'), rdflib.term.URIRef('http://a.example/p1'), rdflib.term.Literal('b')),\n (rdflib.term.URIRef('http://example.org/s1'), rdflib.term.URIRef('http://a.example/p1'), rdflib.term.Literal('c')),\n (rdflib.term.URIRef('http://example.org/s1'), rdflib.term.URIRef('http://a.example/p1'), rdflib.term.Literal('d')),\n (rdflib.term.URIRef('http://example.org/s1'), rdflib.term.URIRef('http://a.example/p1'), rdflib.term.Literal('e')),\n (rdflib.term.URIRef('http://example.org/s1'), rdflib.term.URIRef('http://a.example/p1'), rdflib.term.URIRef('http://example.org/o1')),\n (rdflib.term.URIRef('http://example.org/s1'), rdflib.term.URIRef('http://a.example/p1'), rdflib.term.Literal('b'))]\n"
     ]
    }
   ],
   "source": [
    "ppl(cg.triples((s1, p, None)))"
   ]
  },
  {
   "cell_type": "markdown",
   "metadata": {},
   "source": [
    "**The Graph returns the first node**"
   ]
  },
  {
   "cell_type": "code",
   "execution_count": 6,
   "metadata": {},
   "outputs": [
    {
     "name": "stdout",
     "output_type": "stream",
     "text": [
      "[(rdflib.term.URIRef('http://example.org/s1'), rdflib.term.URIRef('http://a.example/p1'), rdflib.term.BNode('fbd3921aea969422cbddfb80667bfe930b1'))]\n"
     ]
    }
   ],
   "source": [
    "ppl(g.triples((s1, p, None)))"
   ]
  },
  {
   "cell_type": "markdown",
   "metadata": {},
   "source": [
    "**The output of the CGGraph and Graph are the same with lists**"
   ]
  },
  {
   "cell_type": "code",
   "execution_count": 7,
   "metadata": {},
   "outputs": [
    {
     "name": "stdout",
     "output_type": "stream",
     "text": [
      "{(rdflib.term.URIRef('http://example.org/s2'), rdflib.term.URIRef('http://a.example/p1'), rdflib.term.URIRef('http://example.org/o1')),\n (rdflib.term.URIRef('http://example.org/s2'), rdflib.term.URIRef('http://a.example/p1'), rdflib.term.Literal('a')),\n (rdflib.term.URIRef('http://example.org/s2'), rdflib.term.URIRef('http://a.example/p1'), rdflib.term.Literal('b')),\n (rdflib.term.URIRef('http://example.org/s2'), rdflib.term.URIRef('http://a.example/p1'), rdflib.term.Literal('c')),\n (rdflib.term.URIRef('http://example.org/s2'), rdflib.term.URIRef('http://a.example/p1'), rdflib.term.Literal('d')),\n (rdflib.term.URIRef('http://example.org/s2'), rdflib.term.URIRef('http://a.example/p1'), rdflib.term.Literal('e'))}\nGraphs are equal = True\n"
     ]
    }
   ],
   "source": [
    "pps(cg.triples((s2, p, None)))\n",
    "print(\"Graphs are equal = \" + str(set(cg.triples((s2, p, None))) == set(g.triples((s2, p, None)))))"
   ]
  },
  {
   "cell_type": "markdown",
   "metadata": {},
   "source": [
    "**The empty list returns a null list in CGGraph and `rdf:nil` in a plain Graph**"
   ]
  },
  {
   "cell_type": "code",
   "execution_count": 8,
   "metadata": {},
   "outputs": [
    {
     "name": "stdout",
     "output_type": "stream",
     "text": [
      "[]\n[(rdflib.term.URIRef('http://example.org/s3'), rdflib.term.URIRef('http://a.example/p1'), rdflib.term.URIRef('http://www.w3.org/1999/02/22-rdf-syntax-ns#nil'))]\n"
     ]
    }
   ],
   "source": [
    "ppl(cg.triples((s3, p, None)))\n",
    "ppl(g.triples((s3, p, None)))"
   ]
  },
  {
   "cell_type": "markdown",
   "metadata": {},
   "source": [
    "**All the other *forward* graph functions behave as expected**"
   ]
  },
  {
   "cell_type": "code",
   "execution_count": 9,
   "metadata": {},
   "outputs": [
    {
     "name": "stdout",
     "output_type": "stream",
     "text": [
      "[(rdflib.term.URIRef('http://a.example/p1'), rdflib.term.BNode('feda7e2d44fd640b6ad14065e44f4f559b8'))]\n[rdflib.term.URIRef('http://example.org/o1')]\n"
     ]
    }
   ],
   "source": [
    "ppl(cg.predicate_objects(s4))\n",
    "ppl(cg.objects(s4, p))"
   ]
  },
  {
   "cell_type": "markdown",
   "metadata": {},
   "source": [
    "***Reverse* functions are not implemented in this version**"
   ]
  },
  {
   "cell_type": "code",
   "execution_count": 10,
   "metadata": {},
   "outputs": [
    {
     "name": "stdout",
     "output_type": "stream",
     "text": [
      "*** subject_predicates ***\n[(rdflib.term.BNode('feda7e2d44fd640b6ad14065e44f4f559b6'), rdflib.term.URIRef('http://www.w3.org/1999/02/22-rdf-syntax-ns#first')),\n (rdflib.term.BNode('feda7e2d44fd640b6ad14065e44f4f559b8'), rdflib.term.URIRef('http://www.w3.org/1999/02/22-rdf-syntax-ns#first')),\n (rdflib.term.URIRef('http://example.org/s2'), rdflib.term.URIRef('http://a.example/p1'))]\n\n*** subjects ***\n[rdflib.term.URIRef('http://example.org/s2')]\n\n*** subject_objects ***\n[(rdflib.term.URIRef('http://example.org/s2'), rdflib.term.Literal('a')),\n (rdflib.term.URIRef('http://example.org/s2'), rdflib.term.Literal('b')),\n (rdflib.term.URIRef('http://example.org/s4'), rdflib.term.BNode('feda7e2d44fd640b6ad14065e44f4f559b8')),\n (rdflib.term.URIRef('http://example.org/s2'), rdflib.term.Literal('c')),\n (rdflib.term.URIRef('http://example.org/s2'), rdflib.term.URIRef('http://example.org/o1')),\n (rdflib.term.URIRef('http://example.org/s2'), rdflib.term.Literal('e')),\n (rdflib.term.URIRef('http://example.org/s2'), rdflib.term.Literal('d')),\n (rdflib.term.URIRef('http://example.org/s1'), rdflib.term.BNode('feda7e2d44fd640b6ad14065e44f4f559b1')),\n (rdflib.term.URIRef('http://example.org/s3'), rdflib.term.URIRef('http://www.w3.org/1999/02/22-rdf-syntax-ns#nil'))]\n"
     ]
    }
   ],
   "source": [
    "print(\"*** subject_predicates ***\")\n",
    "ppl(cg.subject_predicates(o))\n",
    "print(\"\\n*** subjects ***\")\n",
    "ppl(cg.subjects(p, o))\n",
    "print(\"\\n*** subject_objects ***\")\n",
    "ppl(cg.subject_objects(p))"
   ]
  },
  {
   "cell_type": "code",
   "execution_count": null,
   "metadata": {},
   "outputs": [],
   "source": []
  }
 ],
 "metadata": {
  "kernelspec": {
   "display_name": "Python 2",
   "language": "python",
   "name": "python2"
  },
  "language_info": {
   "codemirror_mode": {
    "name": "ipython",
    "version": 2
   },
   "file_extension": ".py",
   "mimetype": "text/x-python",
   "name": "python",
   "nbconvert_exporter": "python",
   "pygments_lexer": "ipython2",
   "version": "2.7.6"
  }
 },
 "nbformat": 4,
 "nbformat_minor": 0
}
