{
 "cells": [
  {
   "cell_type": "code",
   "execution_count": 1,
   "metadata": {},
   "outputs": [],
   "source": [
    "!pip install CFGraph --upgrade -q"
   ]
  },
  {
   "cell_type": "code",
   "execution_count": 2,
   "metadata": {},
   "outputs": [],
   "source": [
    "from rdflib import URIRef, Graph\n",
    "from CFGraph import CFGraph\n",
    "from pprint import pprint\n",
    "ppl = lambda t: pprint([(str(s), str(p), str(o)) for s, p, o in list(t)], width=160)\n",
    "ppt = lambda t: pprint([(str(e[0]), str(e[1])) for e in t], width=160)\n",
    "pps = lambda objs: pprint(set([str(o) for o in objs]), width=160)\n",
    "\n",
    "s1 = URIRef(\"http://example.org/s1\")\n",
    "s2 = URIRef(\"http://example.org/s2\")\n",
    "s3 = URIRef(\"http://example.org/s3\")\n",
    "s4 = URIRef(\"http://example.org/s4\")\n",
    "s5 = URIRef(\"http://example.org/s5\")\n",
    "\n",
    "p1 = URIRef(\"http://a.example/p1\")\n",
    "p2 = URIRef(\"http://a.example/p2\")\n",
    "p3 = URIRef(\"http://a.example/p3\")\n",
    "p4 = URIRef(\"http://a.example/p4\")\n",
    "p5 = URIRef(\"http://a.example/p5\")\n",
    "\n",
    "o1 = URIRef(\"http://example.org/o1\")\n",
    "o2 = URIRef(\"http://example.org/o2\")\n",
    "o3 = URIRef(\"http://example.org/o3\")\n",
    "o4 = URIRef(\"http://example.org/o4\")\n",
    "o5 = URIRef(\"http://example.org/o5\")\n",
    "\n",
    "\n"
   ]
  },
  {
   "cell_type": "markdown",
   "metadata": {},
   "source": [
    "**Our graph has for subjects:**\n",
    "\n",
    "* `<\"http://example.org/s1\">`: an RDF collection with 8 elements - seven literals with \"b\" appearing twice and a URI.\n",
    "* `<\"http://example.org/s2\">`: an RDF list with 7 elements -- six literals (\"b\" is a duplicate) and a URI.  This list is unordered\n",
    "* `<\"http://example.org/s3\">`: an empty RDF collection.  This returns `rdf:nil` as a normal graph and an empty list in CGGraph\n",
    "* `<\"http://example.org/s4\">`: an RDF collection with a single URI element\n",
    "* `<\"http://example.org/s5\">`: a combination of an RDF collection *and* a URI."
   ]
  },
  {
   "cell_type": "code",
   "execution_count": 3,
   "metadata": {},
   "outputs": [
    {
     "name": "stdout",
     "output_type": "stream",
     "text": [
      "\n",
      "<http://example.org/s1> <http://a.example/p1> (\"a\" \"b\" \"c\" \"d\" \"e\" <http://example.org/o1> \"b\").\n",
      "<http://example.org/s2> <http://a.example/p2> \"a\", \"b\", \"c\", \"d\", \"e\", <http://example.org/o2>, \"b\".\n",
      "<http://example.org/s3> <http://a.example/p3> ().\n",
      "<http://example.org/s4> <http://a.example/p4> (<http://example.org/o4>).\n",
      "<http://example.org/s5> <http://a.example/p5> (1 2), <http://example.org/o5>.\n",
      "\n"
     ]
    }
   ],
   "source": [
    "rdf = f\"\"\"\n",
    "<{s1}> <{p1}> (\"a\" \"b\" \"c\" \"d\" \"e\" <{o1}> \"b\").\n",
    "<{s2}> <{p2}> \"a\", \"b\", \"c\", \"d\", \"e\", <{o2}>, \"b\".\n",
    "<{s3}> <{p3}> ().\n",
    "<{s4}> <{p4}> (<{o4}>).\n",
    "<{s5}> <{p5}> (1 2), <{o5}>.\n",
    "\"\"\"\n",
    "\n",
    "print(rdf)"
   ]
  },
  {
   "cell_type": "code",
   "execution_count": 4,
   "metadata": {},
   "outputs": [],
   "source": [
    "# Load a Collection Flattening Graph\n",
    "cg = CFGraph()\n",
    "_ = cg.parse(data=rdf, format=\"turtle\")\n",
    "\n",
    "# Load a \"vanilla\" RDF graph for comparison\n",
    "g = Graph()\n",
    "_ = g.parse(data=rdf, format=\"turtle\")"
   ]
  },
  {
   "cell_type": "markdown",
   "metadata": {},
   "source": [
    "**The CGGraph returns all of the elements in the collection for the first predicate as a list.**\n"
   ]
  },
  {
   "cell_type": "code",
   "execution_count": 5,
   "metadata": {},
   "outputs": [
    {
     "name": "stdout",
     "output_type": "stream",
     "text": [
      "[('http://example.org/s1', 'http://a.example/p1', 'a'),\n",
      " ('http://example.org/s1', 'http://a.example/p1', 'b'),\n",
      " ('http://example.org/s1', 'http://a.example/p1', 'c'),\n",
      " ('http://example.org/s1', 'http://a.example/p1', 'd'),\n",
      " ('http://example.org/s1', 'http://a.example/p1', 'e'),\n",
      " ('http://example.org/s1', 'http://a.example/p1', 'http://example.org/o1'),\n",
      " ('http://example.org/s1', 'http://a.example/p1', 'b')]\n"
     ]
    }
   ],
   "source": [
    "ppl(cg.triples((s1, p1, None)))"
   ]
  },
  {
   "cell_type": "markdown",
   "metadata": {},
   "source": [
    "**The Graph returns the first node**"
   ]
  },
  {
   "cell_type": "code",
   "execution_count": 6,
   "metadata": {},
   "outputs": [
    {
     "name": "stdout",
     "output_type": "stream",
     "text": [
      "[('http://example.org/s1', 'http://a.example/p1', 'f1063555acde443e3abcd7d2a0716c608b1')]\n"
     ]
    }
   ],
   "source": [
    "ppl(g.triples((s1, p1, None)))"
   ]
  },
  {
   "cell_type": "markdown",
   "metadata": {},
   "source": [
    "**The output of the CGGraph and Graph are the same with lists**"
   ]
  },
  {
   "cell_type": "code",
   "execution_count": 7,
   "metadata": {},
   "outputs": [
    {
     "name": "stdout",
     "output_type": "stream",
     "text": [
      "[('http://example.org/s2', 'http://a.example/p2', 'e'),\n",
      " ('http://example.org/s2', 'http://a.example/p2', 'd'),\n",
      " ('http://example.org/s2', 'http://a.example/p2', 'b'),\n",
      " ('http://example.org/s2', 'http://a.example/p2', 'c'),\n",
      " ('http://example.org/s2', 'http://a.example/p2', 'a'),\n",
      " ('http://example.org/s2', 'http://a.example/p2', 'http://example.org/o2')]\n",
      "Graphs are equal = True\n"
     ]
    }
   ],
   "source": [
    "ppl(cg.triples((s2, p2, None)))\n",
    "print(\"Graphs are equal = \" + str(set(cg.triples((s2, p2, None))) == set(g.triples((s2, p2, None)))))"
   ]
  },
  {
   "cell_type": "markdown",
   "metadata": {},
   "source": [
    "**The empty list returns an empty list in CGGraph and `rdf:nil` in a plain Graph**"
   ]
  },
  {
   "cell_type": "code",
   "execution_count": 8,
   "metadata": {},
   "outputs": [
    {
     "name": "stdout",
     "output_type": "stream",
     "text": [
      "[]\n",
      "[('http://example.org/s3', 'http://a.example/p3', 'http://www.w3.org/1999/02/22-rdf-syntax-ns#nil')]\n"
     ]
    }
   ],
   "source": [
    "ppl(cg.triples((s3, p3, None)))\n",
    "ppl(g.triples((s3, p3, None)))"
   ]
  },
  {
   "cell_type": "markdown",
   "metadata": {},
   "source": [
    "**All the other *forward* graph functions behave as expected**"
   ]
  },
  {
   "cell_type": "code",
   "execution_count": 9,
   "metadata": {},
   "outputs": [
    {
     "name": "stdout",
     "output_type": "stream",
     "text": [
      "predicate_objects(s1)\n",
      "[('http://a.example/p1', 'a'),\n",
      " ('http://a.example/p1', 'b'),\n",
      " ('http://a.example/p1', 'c'),\n",
      " ('http://a.example/p1', 'd'),\n",
      " ('http://a.example/p1', 'e'),\n",
      " ('http://a.example/p1', 'http://example.org/o1'),\n",
      " ('http://a.example/p1', 'b')]\n",
      "\n",
      "objects(s1, p1)\n",
      "{'e', 'http://example.org/o1', 'd', 'c', 'a', 'b'}\n"
     ]
    }
   ],
   "source": [
    "print(\"predicate_objects(s1)\")\n",
    "ppt(cg.predicate_objects(s1))\n",
    "print(\"\\nobjects(s1, p1)\")\n",
    "pps(cg.objects(s1, p1))"
   ]
  },
  {
   "cell_type": "markdown",
   "metadata": {},
   "source": [
    "** Other functions behave as expected **"
   ]
  },
  {
   "cell_type": "code",
   "execution_count": 14,
   "metadata": {},
   "outputs": [
    {
     "name": "stdout",
     "output_type": "stream",
     "text": [
      "subject_predicates(o1)\n",
      "[('http://example.org/s1', 'http://a.example/p1')]\n",
      "\n",
      "subjects(p1, o1)\n",
      "{'http://example.org/s1'}\n",
      "\n",
      "subject_objects(p1)\n",
      "[('http://example.org/s1', 'a'),\n",
      " ('http://example.org/s1', 'b'),\n",
      " ('http://example.org/s1', 'c'),\n",
      " ('http://example.org/s1', 'd'),\n",
      " ('http://example.org/s1', 'e'),\n",
      " ('http://example.org/s1', 'http://example.org/o1'),\n",
      " ('http://example.org/s1', 'b')]\n"
     ]
    }
   ],
   "source": [
    "print(\"subject_predicates(o1)\")\n",
    "ppt(cg.subject_predicates(o1))\n",
    "print(\"\\nsubjects(p1, o1)\")\n",
    "pps(cg.subjects(p1, o1))\n",
    "print(\"\\nsubject_objects(p1)\")\n",
    "ppt(cg.subject_objects(p1))"
   ]
  }
 ],
 "metadata": {
  "kernelspec": {
   "display_name": "Python 3",
   "language": "python",
   "name": "python3"
  },
  "language_info": {
   "codemirror_mode": {
    "name": "ipython",
    "version": 3
   },
   "file_extension": ".py",
   "mimetype": "text/x-python",
   "name": "python",
   "nbconvert_exporter": "python",
   "pygments_lexer": "ipython3",
   "version": "3.7.0"
  }
 },
 "nbformat": 4,
 "nbformat_minor": 1
}
